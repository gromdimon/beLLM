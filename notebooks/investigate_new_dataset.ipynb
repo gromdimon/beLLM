{
 "cells": [
  {
   "cell_type": "code",
   "execution_count": 1,
   "id": "d080e609-0400-4645-ae38-e3f4972b2e32",
   "metadata": {},
   "outputs": [],
   "source": [
    "# read it in to inspect it\n",
    "with open('data/data.txt', 'r', encoding='utf-8') as f:\n",
    "    text = f.read()"
   ]
  },
  {
   "cell_type": "code",
   "execution_count": 2,
   "id": "5cbfc6bd-9025-46c1-89c8-2f40c172f233",
   "metadata": {},
   "outputs": [
    {
     "name": "stdout",
     "output_type": "stream",
     "text": [
      "length of dataset in characters:  9617329\n"
     ]
    }
   ],
   "source": [
    "print(\"length of dataset in characters: \", len(text))"
   ]
  },
  {
   "cell_type": "code",
   "execution_count": 3,
   "id": "eadf2193-0de9-45ac-8bf9-663639017596",
   "metadata": {},
   "outputs": [
    {
     "name": "stdout",
     "output_type": "stream",
     "text": [
      "\n",
      " !\"'()*,-./0123456789:;?ABCDFGHIKMNPRSTVWX[]^abcdefghijklmnopqrstuvwxyz|~«»óýʼ́ЁІЎАБВГДЕЖЗИЙКЛМНОПРСТУФХЦЧШЩЫЬЭЮЯабвгдежзийклмнопрстуфхцчшщъыьэюяёіў–—’“”„•…№□�\n",
      "160\n"
     ]
    }
   ],
   "source": [
    "# here are all the unique characters that occur in this text\n",
    "chars = sorted(list(set(text)))\n",
    "vocab_size = len(chars)\n",
    "print(''.join(chars))\n",
    "print(vocab_size)"
   ]
  },
  {
   "cell_type": "code",
   "execution_count": 4,
   "id": "94d43adf-82f9-480d-a75b-0ac96d5322d3",
   "metadata": {},
   "outputs": [
    {
     "name": "stdout",
     "output_type": "stream",
     "text": [
      "Counter({' ': 1505964, 'а': 1196817, 'н': 421951, 'і': 377434, 'л': 313278, 'ы': 310932, 'с': 301072, 'о': 299252, 'р': 298549, 'е': 296754, 'к': 293685, 'я': 279111, 'т': 249938, 'у': 244908, 'д': 243009, 'з': 217533, 'м': 215265, ',': 208081, 'в': 207417, 'п': 206602, 'ц': 191911, 'ў': 187525, 'б': 144256, 'г': 139477, '.': 131489, 'ч': 116584, 'ь': 112744, 'ш': 102315, 'х': 86578, '\\n': 75545, 'й': 73416, 'ж': 65201, 'э': 60464, 'ё': 46351, 'ю': 45909, '—': 33810, 'А': 22517, 'Н': 17111, '!': 16647, '-': 16454, 'П': 15485, '–': 14330, '?': 13894, 'С': 12855, 'Я': 12223, ':': 11660, 'Т': 10454, 'Д': 10440, 'М': 10266, 'В': 10211, 'І': 10019, 'К': 9909, 'З': 8802, 'Б': 8500, 'У': 8011, 'Г': 7588, 'i': 6315, 'Л': 5455, 'ф': 4688, '«': 4613, '»': 4604, 'Х': 4393, 'Р': 3845, 'Ё': 3815, 'Ц': 3637, 'Ш': 3607, 'Ч': 2915, ';': 2707, '…': 2225, 'I': 1976, '\"': 1786, \"'\": 1623, '’': 1248, 'Ж': 1093, 'О': 846, 'ʼ': 700, 'Ў': 625, 'Ф': 618, 'и': 563, ')': 481, '(': 479, 'Э': 459, 'Е': 439, 'Ю': 366, 'a': 342, 'x': 326, '1': 216, 'A': 168, '0': 119, '9': 117, '2': 111, '“': 109, '”': 108, '3': 96, 'y': 94, '*': 66, '5': 58, '4': 56, '[': 54, ']': 54, '6': 52, 'H': 47, '7': 39, 'e': 38, 'o': 36, 'c': 36, '8': 34, '́': 31, 'щ': 29, 'Ы': 19, 'И': 17, 'M': 16, 'n': 13, 'B': 13, 'V': 12, '№': 12, 'p': 12, 'Й': 12, 'C': 11, 't': 10, 'X': 9, 'm': 9, 'K': 8, 'r': 6, 'u': 6, 'Ь': 6, '□': 6, 's': 5, 'W': 5, 'N': 4, '^': 4, 'P': 4, 'S': 4, 'ý': 4, 'R': 3, '|': 3, '/': 3, 'h': 3, 'f': 2, 'ъ': 2, 'Щ': 2, 'v': 2, 'j': 2, 'w': 2, 'l': 2, 'T': 2, '„': 1, 'G': 1, 'ó': 1, 'F': 1, '•': 1, '~': 1, 'D': 1, 'b': 1, 'g': 1, 'd': 1, '�': 1, 'z': 1, 'k': 1, 'q': 1})\n"
     ]
    }
   ],
   "source": [
    "# For char in chars calculate the frequency of char in text\n",
    "import numpy as np\n",
    "from collections import Counter\n",
    "char_freq = Counter(text)\n",
    "print(char_freq)"
   ]
  },
  {
   "cell_type": "code",
   "execution_count": 12,
   "id": "a9048dcb",
   "metadata": {},
   "outputs": [
    {
     "name": "stdout",
     "output_type": "stream",
     "text": [
      "[('И', 17), ('M', 16), ('n', 13), ('B', 13), ('V', 12), ('№', 12), ('p', 12), ('Й', 12), ('C', 11), ('t', 10), ('X', 9), ('m', 9), ('K', 8), ('r', 6), ('u', 6), ('Ь', 6), ('□', 6), ('s', 5), ('W', 5), ('N', 4), ('^', 4), ('P', 4), ('S', 4), ('ý', 4), ('R', 3), ('|', 3), ('/', 3), ('h', 3), ('f', 2), ('ъ', 2), ('Щ', 2), ('v', 2), ('j', 2), ('w', 2), ('l', 2), ('T', 2), ('„', 1), ('G', 1), ('ó', 1), ('F', 1), ('•', 1), ('~', 1), ('D', 1), ('b', 1), ('g', 1), ('d', 1), ('�', 1), ('z', 1), ('k', 1), ('q', 1)]\n"
     ]
    }
   ],
   "source": [
    "# Print the 5 least frequent characters\n",
    "print(char_freq.most_common()[-50:])"
   ]
  },
  {
   "cell_type": "code",
   "execution_count": 14,
   "id": "1c89bc6a",
   "metadata": {},
   "outputs": [
    {
     "name": "stdout",
     "output_type": "stream",
     "text": [
      "[(' ', 1505964), ('а', 1196817), ('н', 421951), ('і', 377434), ('л', 313278), ('ы', 310932), ('с', 301072), ('о', 299252), ('р', 298549), ('е', 296754), ('к', 293685), ('я', 279111), ('т', 249938), ('у', 244908), ('д', 243009), ('з', 217533), ('м', 215265), (',', 208081), ('в', 207417), ('п', 206602), ('ц', 191911), ('ў', 187525), ('б', 144256), ('г', 139477), ('.', 131489), ('ч', 116584), ('ь', 112744), ('ш', 102315), ('х', 86578), ('\\n', 75545), ('й', 73416), ('ж', 65201), ('э', 60464), ('ё', 46351), ('ю', 45909), ('—', 33810), ('А', 22517), ('Н', 17111), ('!', 16647), ('-', 16454), ('П', 15485), ('–', 14330), ('?', 13894), ('С', 12855), ('Я', 12223), (':', 11660), ('Т', 10454), ('Д', 10440), ('М', 10266), ('В', 10211)]\n"
     ]
    }
   ],
   "source": [
    "print(char_freq.most_common()[:50])"
   ]
  },
  {
   "cell_type": "code",
   "execution_count": 15,
   "id": "2691dadc",
   "metadata": {},
   "outputs": [
    {
     "name": "stdout",
     "output_type": "stream",
     "text": [
      "['f', 'ъ', '„', 'Щ', 'N', 'G', 's', 'R', 'r', 'u', 'v', 'ó', '|', '^', 'j', 'P', 'F', '/', '•', 'w', 'Ь', '~', 'S', '□', 'ý', 'D', 'b', 'g', 'l', 'd', '�', 'T', 'W', 'h', 'z', 'k', 'q']\n"
     ]
    }
   ],
   "source": [
    "# Drop all characters with a frequency lower than 7\n",
    "chars_to_drop = [char for char, freq in char_freq.items() if freq < 7]\n",
    "print(chars_to_drop)\n",
    "\n",
    "# Drop this characters from the text\n",
    "text = ''.join([char for char in text if char not in chars_to_drop])\n",
    "\n",
    "# Write the text to a new file\n",
    "with open('data/clean_data.txt', 'w', encoding='utf-8') as f:\n",
    "    f.write(text)   \n",
    "    \n"
   ]
  },
  {
   "cell_type": "code",
   "execution_count": null,
   "id": "9cb1ab80",
   "metadata": {},
   "outputs": [],
   "source": []
  }
 ],
 "metadata": {
  "kernelspec": {
   "display_name": "Python 3 (ipykernel)",
   "language": "python",
   "name": "python3"
  },
  "language_info": {
   "codemirror_mode": {
    "name": "ipython",
    "version": 3
   },
   "file_extension": ".py",
   "mimetype": "text/x-python",
   "name": "python",
   "nbconvert_exporter": "python",
   "pygments_lexer": "ipython3",
   "version": "3.10.12"
  }
 },
 "nbformat": 4,
 "nbformat_minor": 5
}
